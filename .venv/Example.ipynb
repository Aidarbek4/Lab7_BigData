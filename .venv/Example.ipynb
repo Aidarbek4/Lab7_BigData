{
 "cells": [
  {
   "cell_type": "code",
   "id": "initial_id",
   "metadata": {
    "collapsed": true,
    "ExecuteTime": {
     "end_time": "2024-12-11T14:59:30.787246Z",
     "start_time": "2024-12-11T14:48:53.432720Z"
    }
   },
   "source": [
    "from sklearn.datasets import load_files\n",
    "from sklearn.feature_extraction.text import CountVectorizer\n",
    "\n",
    "reviews_train = load_files(\"aclImdb/train\")\n",
    "text_train, y_trian = reviews_train.data, reviews_train.target"
   ],
   "outputs": [],
   "execution_count": 2
  },
  {
   "metadata": {
    "ExecuteTime": {
     "end_time": "2024-12-11T15:01:44.605582Z",
     "start_time": "2024-12-11T15:01:44.401143Z"
    }
   },
   "cell_type": "code",
   "source": "text_train = [doc.replace(b\"<br />\", b\" \") for doc in text_train]",
   "id": "956cd0baf896eda0",
   "outputs": [],
   "execution_count": 3
  },
  {
   "metadata": {
    "ExecuteTime": {
     "end_time": "2024-12-11T15:05:17.839320Z",
     "start_time": "2024-12-11T15:01:45.522031Z"
    }
   },
   "cell_type": "code",
   "source": [
    "reviews_test = load_files(\"aclImdb/test\")\n",
    "text_test, y_test = reviews_test.data, reviews_test.target\n",
    "text_test = [doc.replace(b\"<br />\", b\" \") for doc in text_test]"
   ],
   "id": "8838d1ef53f47c9f",
   "outputs": [],
   "execution_count": 4
  },
  {
   "metadata": {
    "ExecuteTime": {
     "end_time": "2024-12-11T15:06:41.297160Z",
     "start_time": "2024-12-11T15:06:31.333749Z"
    }
   },
   "cell_type": "code",
   "source": [
    "vect = CountVectorizer(max_features=10000, max_df=.15)\n",
    "X = vect.fit_transform(text_train)"
   ],
   "id": "88506b69272723bc",
   "outputs": [],
   "execution_count": 5
  },
  {
   "metadata": {
    "ExecuteTime": {
     "end_time": "2024-12-11T15:17:44.693886Z",
     "start_time": "2024-12-11T15:10:32.776390Z"
    }
   },
   "cell_type": "code",
   "source": [
    "from sklearn.decomposition import LatentDirichletAllocation\n",
    "lda = LatentDirichletAllocation(n_components=10, learning_method='batch', max_iter=10, random_state=0)\n",
    "document_topics = lda.fit_transform(X)"
   ],
   "id": "79c1b6d8ba92ac9f",
   "outputs": [],
   "execution_count": 6
  },
  {
   "metadata": {
    "ExecuteTime": {
     "end_time": "2024-12-11T15:20:39.654906Z",
     "start_time": "2024-12-11T15:20:39.622314Z"
    }
   },
   "cell_type": "code",
   "source": "lda.components_.shape",
   "id": "923b01c4e109e611",
   "outputs": [
    {
     "data": {
      "text/plain": [
       "(10, 10000)"
      ]
     },
     "execution_count": 7,
     "metadata": {},
     "output_type": "execute_result"
    }
   ],
   "execution_count": 7
  },
  {
   "metadata": {
    "ExecuteTime": {
     "end_time": "2024-12-11T15:24:46.578046Z",
     "start_time": "2024-12-11T15:24:46.563340Z"
    }
   },
   "cell_type": "code",
   "source": [
    "import numpy as np\n",
    "\n",
    "sorting = np.argsort(lda.components_, axis=1)[:, ::-1]\n",
    "feature_names = np.array(vect.get_feature_names_out())"
   ],
   "id": "38614a74e533a4fc",
   "outputs": [],
   "execution_count": 13
  },
  {
   "metadata": {
    "ExecuteTime": {
     "end_time": "2024-12-11T15:24:49.509755Z",
     "start_time": "2024-12-11T15:24:49.501807Z"
    }
   },
   "cell_type": "code",
   "source": [
    "import mglearn \n",
    "\n",
    "mglearn.tools.print_topics(topics=range(10), feature_names=feature_names, sorting=sorting, topics_per_chunk=5, n_words=10)"
   ],
   "id": "fdc7073308369e40",
   "outputs": [
    {
     "name": "stdout",
     "output_type": "stream",
     "text": [
      "topic 0       topic 1       topic 2       topic 3       topic 4       \n",
      "--------      --------      --------      --------      --------      \n",
      "action        didn          girl          war           show          \n",
      "dvd           nothing       kids          world         series        \n",
      "game          actors        old           us            episode       \n",
      "horror        book          guy           american      tv            \n",
      "video         script        now           history       shows         \n",
      "director      actually      going         against       episodes      \n",
      "genre         thought       school        during        season        \n",
      "quite         worst         want          years         television    \n",
      "may           minutes       again         our           new           \n",
      "work          read          years         german        now           \n",
      "\n",
      "\n",
      "topic 5       topic 6       topic 7       topic 8       topic 9       \n",
      "--------      --------      --------      --------      --------      \n",
      "funny         horror        role          young         us            \n",
      "comedy        effects       cast          wife          family        \n",
      "humor         budget        performance   woman         world         \n",
      "jokes         special       star          john          real          \n",
      "laugh         re            actor         new           between       \n",
      "hilarious     worst         version       plays         own           \n",
      "fun           dead          screen        father        young         \n",
      "re            gore          play          town          both          \n",
      "10            low           actors        gets          our           \n",
      "cast          look          music         old           feel          \n",
      "\n",
      "\n"
     ]
    }
   ],
   "execution_count": 14
  },
  {
   "metadata": {
    "ExecuteTime": {
     "end_time": "2024-12-11T15:40:05.539353Z",
     "start_time": "2024-12-11T15:26:27.544283Z"
    }
   },
   "cell_type": "code",
   "source": [
    "lda100 = LatentDirichletAllocation(n_components=100, learning_method='batch', max_iter=10, random_state=0)\n",
    "document_topics100 = lda100.fit_transform(X)"
   ],
   "id": "86424e1ed4601ab7",
   "outputs": [],
   "execution_count": 15
  },
  {
   "metadata": {
    "ExecuteTime": {
     "end_time": "2024-12-11T15:48:57.822432Z",
     "start_time": "2024-12-11T15:48:57.779748Z"
    }
   },
   "cell_type": "code",
   "source": [
    "topics = np.array([7, 16, 24, 25, 28, 36, 37, 45, 51, 53, 54, 63, 89, 97])\n",
    "sorting = np.argsort(lda100.components_, axis=1)[:, ::-1]\n",
    "feature_names = np.array(vect.get_feature_names_out())\n",
    "mglearn.tools.print_topics(topics=topics, feature_names=feature_names, sorting=sorting, topics_per_chunk=7, n_words=20)"
   ],
   "id": "8bc4d083b16fed8c",
   "outputs": [
    {
     "name": "stdout",
     "output_type": "stream",
     "text": [
      "topic 7       topic 16      topic 24      topic 25      topic 28      topic 36      topic 37      \n",
      "--------      --------      --------      --------      --------      --------      --------      \n",
      "cagney        house         kevin         opera         role          town          action        \n",
      "keaton        jackson       paris         soap          cast          small         fight         \n",
      "role          haunted       kane          bugs          moore         horror        holmes        \n",
      "star          dead          ford          duvall        performance   city          sequences     \n",
      "james         mansion       citizen       sutherland    actor         sheriff       guys          \n",
      "parker        bear          jay           phantom       funny         hammer        hero          \n",
      "day           ghost         vegas         bunny         played        lake          cop           \n",
      "hollywood     twin          shakespeare   midnight      khan          local         fighting      \n",
      "buster        mummy         john          cowboy        bollywood     mayor         guy           \n",
      "baker         ending        costner       max           plays         john          hard          \n",
      "powell        skull         bacon         serial        fun           tales         john          \n",
      "performance   old           las           bourne        job           thurman       villain       \n",
      "screen        lance         rain          kurosawa      arthur        house         fights        \n",
      "career        starts        naschy        cartoons      nice          uma           woo           \n",
      "stars         branagh       mountain      argento       john          old           lot           \n",
      "superhero     pet           gate          cartoon       comedy        peter         mafia         \n",
      "gangster      killed        bridge        sara          quite         gremlins      kick          \n",
      "doris         creepy        hamlet        tunes         roles         nora          sherlock      \n",
      "fisher        samuel        duncan        robert        chemistry     strange       fast          \n",
      "fool          cemetery      new           looney        always        cushing       watson        \n",
      "\n",
      "\n",
      "topic 45      topic 51      topic 53      topic 54      topic 63      topic 89      topic 97      \n",
      "--------      --------      --------      --------      --------      --------      --------      \n",
      "thriller      joe           david         dark          black         worst         nothing       \n",
      "killer        scott         lynch         noir          white         waste         pretty        \n",
      "interesting   billy         chaplin       director      world         money         boring        \n",
      "suspense      mike          harris        atmosphere    social        awful         didn          \n",
      "rather        jennifer      circus        night         real          terrible      awful         \n",
      "quite         elvis         marc          horror        american      horrible      wasn          \n",
      "cast          oil           himself       performance   us            crap          dull          \n",
      "isn           austin        between       score         society       minutes       terrible      \n",
      "pretty        myers         griffith      murder        lives         actors        witch         \n",
      "doesn         reeves        ricky         mystery       class         script        got           \n",
      "genre         campbell      tramp         thriller      family        nothing       decent        \n",
      "murder        bernie        polish        performances  own           worse         lot           \n",
      "enough        mac           taylor        laura         culture       actually      actors        \n",
      "however       bob           work          set           each          every         worse         \n",
      "script        pretty        dream         ghost         different     stupid        interesting   \n",
      "predictable   powers        each          cast          work          piece         ok            \n",
      "ending        minutes       empire        mysterious    message       want          poor          \n",
      "slasher       pokemon       elephant      tale          makes         poor          looks         \n",
      "though        guru          doesn         detective     self          please        though        \n",
      "main          snl           sense         black         new           anyone        whole         \n",
      "\n",
      "\n"
     ]
    }
   ],
   "execution_count": 18
  },
  {
   "metadata": {
    "ExecuteTime": {
     "end_time": "2024-12-11T15:52:27.664039Z",
     "start_time": "2024-12-11T15:52:27.632929Z"
    }
   },
   "cell_type": "code",
   "source": [
    "music = np.argsort(document_topics100[:, 45])[::-1]\n",
    "for i in music[10]:\n",
    "    print(b\".\".join(text_train[i].split(b\".\")[:2]) + b\".\\n\")"
   ],
   "id": "f5f836bb0987c9a9",
   "outputs": [
    {
     "ename": "TypeError",
     "evalue": "'numpy.int64' object is not iterable",
     "output_type": "error",
     "traceback": [
      "\u001B[1;31m---------------------------------------------------------------------------\u001B[0m",
      "\u001B[1;31mTypeError\u001B[0m                                 Traceback (most recent call last)",
      "Cell \u001B[1;32mIn[20], line 2\u001B[0m\n\u001B[0;32m      1\u001B[0m music \u001B[38;5;241m=\u001B[39m np\u001B[38;5;241m.\u001B[39margsort(document_topics100[:, \u001B[38;5;241m45\u001B[39m])[::\u001B[38;5;241m-\u001B[39m\u001B[38;5;241m1\u001B[39m]\n\u001B[1;32m----> 2\u001B[0m \u001B[38;5;28;43;01mfor\u001B[39;49;00m\u001B[43m \u001B[49m\u001B[43mi\u001B[49m\u001B[43m \u001B[49m\u001B[38;5;129;43;01min\u001B[39;49;00m\u001B[43m \u001B[49m\u001B[43mmusic\u001B[49m\u001B[43m[\u001B[49m\u001B[38;5;241;43m10\u001B[39;49m\u001B[43m]\u001B[49m\u001B[43m:\u001B[49m\n\u001B[0;32m      3\u001B[0m \u001B[43m    \u001B[49m\u001B[38;5;28;43mprint\u001B[39;49m\u001B[43m(\u001B[49m\u001B[38;5;124;43mb\u001B[39;49m\u001B[38;5;124;43m\"\u001B[39;49m\u001B[38;5;124;43m.\u001B[39;49m\u001B[38;5;124;43m\"\u001B[39;49m\u001B[38;5;241;43m.\u001B[39;49m\u001B[43mjoin\u001B[49m\u001B[43m(\u001B[49m\u001B[43mtext_train\u001B[49m\u001B[43m[\u001B[49m\u001B[43mi\u001B[49m\u001B[43m]\u001B[49m\u001B[38;5;241;43m.\u001B[39;49m\u001B[43msplit\u001B[49m\u001B[43m(\u001B[49m\u001B[38;5;124;43mb\u001B[39;49m\u001B[38;5;124;43m\"\u001B[39;49m\u001B[38;5;124;43m.\u001B[39;49m\u001B[38;5;124;43m\"\u001B[39;49m\u001B[43m)\u001B[49m\u001B[43m[\u001B[49m\u001B[43m:\u001B[49m\u001B[38;5;241;43m2\u001B[39;49m\u001B[43m]\u001B[49m\u001B[43m)\u001B[49m\u001B[43m \u001B[49m\u001B[38;5;241;43m+\u001B[39;49m\u001B[43m \u001B[49m\u001B[38;5;124;43mb\u001B[39;49m\u001B[38;5;124;43m\"\u001B[39;49m\u001B[38;5;124;43m.\u001B[39;49m\u001B[38;5;130;43;01m\\n\u001B[39;49;00m\u001B[38;5;124;43m\"\u001B[39;49m\u001B[43m)\u001B[49m\n",
      "\u001B[1;31mTypeError\u001B[0m: 'numpy.int64' object is not iterable"
     ]
    }
   ],
   "execution_count": 20
  },
  {
   "metadata": {
    "ExecuteTime": {
     "end_time": "2024-12-11T15:57:53.714136Z",
     "start_time": "2024-12-11T15:57:51.665075Z"
    }
   },
   "cell_type": "code",
   "source": [
    "import matplotlib.pyplot as plt\n",
    "fig, ax = plt.subplots(1, 2, figsize=(10, 10))\n",
    "topic_names = [\"{:>2} \".format(i) + \" \".join(words)\n",
    "               for i, word in enumerate(feature_names[sorting[:, :2]])]\n",
    "for col in [0, 1]:\n",
    "    start = col * 50\n",
    "    end = (col + 1) * 50\n",
    "    ax[col].barh(np.arange(50), np.sum(document_topics100, axis=0)[start:end])\n",
    "    ax[col].set_yticks(np.arange(50))\n",
    "    ax[col].set_yticklabels(topic_names[start:end], ha=\"left\", va=\"top\")\n",
    "    ax[col].set_xlim(0, 2000)\n",
    "    yax = ax[col].get_yaxis()\n",
    "    yax.set_tick_params(pad=130)\n",
    "plt.tight_layout()"
   ],
   "id": "969688edda71b19a",
   "outputs": [
    {
     "ename": "NameError",
     "evalue": "name 'words' is not defined",
     "output_type": "error",
     "traceback": [
      "\u001B[1;31m---------------------------------------------------------------------------\u001B[0m",
      "\u001B[1;31mNameError\u001B[0m                                 Traceback (most recent call last)",
      "Cell \u001B[1;32mIn[21], line 3\u001B[0m\n\u001B[0;32m      1\u001B[0m \u001B[38;5;28;01mimport\u001B[39;00m \u001B[38;5;21;01mmatplotlib\u001B[39;00m\u001B[38;5;21;01m.\u001B[39;00m\u001B[38;5;21;01mpyplot\u001B[39;00m \u001B[38;5;28;01mas\u001B[39;00m \u001B[38;5;21;01mplt\u001B[39;00m\n\u001B[0;32m      2\u001B[0m fig, ax \u001B[38;5;241m=\u001B[39m plt\u001B[38;5;241m.\u001B[39msubplots(\u001B[38;5;241m1\u001B[39m, \u001B[38;5;241m2\u001B[39m, figsize\u001B[38;5;241m=\u001B[39m(\u001B[38;5;241m10\u001B[39m, \u001B[38;5;241m10\u001B[39m))\n\u001B[1;32m----> 3\u001B[0m topic_names \u001B[38;5;241m=\u001B[39m \u001B[43m[\u001B[49m\u001B[38;5;124;43m\"\u001B[39;49m\u001B[38;5;132;43;01m{:>2}\u001B[39;49;00m\u001B[38;5;124;43m \u001B[39;49m\u001B[38;5;124;43m\"\u001B[39;49m\u001B[38;5;241;43m.\u001B[39;49m\u001B[43mformat\u001B[49m\u001B[43m(\u001B[49m\u001B[43mi\u001B[49m\u001B[43m)\u001B[49m\u001B[43m \u001B[49m\u001B[38;5;241;43m+\u001B[39;49m\u001B[43m \u001B[49m\u001B[38;5;124;43m\"\u001B[39;49m\u001B[38;5;124;43m \u001B[39;49m\u001B[38;5;124;43m\"\u001B[39;49m\u001B[38;5;241;43m.\u001B[39;49m\u001B[43mjoin\u001B[49m\u001B[43m(\u001B[49m\u001B[43mwords\u001B[49m\u001B[43m)\u001B[49m\n\u001B[0;32m      4\u001B[0m \u001B[43m               \u001B[49m\u001B[38;5;28;43;01mfor\u001B[39;49;00m\u001B[43m \u001B[49m\u001B[43mi\u001B[49m\u001B[43m,\u001B[49m\u001B[43m \u001B[49m\u001B[43mword\u001B[49m\u001B[43m \u001B[49m\u001B[38;5;129;43;01min\u001B[39;49;00m\u001B[43m \u001B[49m\u001B[38;5;28;43menumerate\u001B[39;49m\u001B[43m(\u001B[49m\u001B[43mfeature_names\u001B[49m\u001B[43m[\u001B[49m\u001B[43msorting\u001B[49m\u001B[43m[\u001B[49m\u001B[43m:\u001B[49m\u001B[43m,\u001B[49m\u001B[43m \u001B[49m\u001B[43m:\u001B[49m\u001B[38;5;241;43m2\u001B[39;49m\u001B[43m]\u001B[49m\u001B[43m]\u001B[49m\u001B[43m)\u001B[49m\u001B[43m]\u001B[49m\n\u001B[0;32m      5\u001B[0m \u001B[38;5;28;01mfor\u001B[39;00m col \u001B[38;5;129;01min\u001B[39;00m [\u001B[38;5;241m0\u001B[39m, \u001B[38;5;241m1\u001B[39m]:\n\u001B[0;32m      6\u001B[0m     start \u001B[38;5;241m=\u001B[39m col \u001B[38;5;241m*\u001B[39m \u001B[38;5;241m50\u001B[39m\n",
      "Cell \u001B[1;32mIn[21], line 3\u001B[0m, in \u001B[0;36m<listcomp>\u001B[1;34m(.0)\u001B[0m\n\u001B[0;32m      1\u001B[0m \u001B[38;5;28;01mimport\u001B[39;00m \u001B[38;5;21;01mmatplotlib\u001B[39;00m\u001B[38;5;21;01m.\u001B[39;00m\u001B[38;5;21;01mpyplot\u001B[39;00m \u001B[38;5;28;01mas\u001B[39;00m \u001B[38;5;21;01mplt\u001B[39;00m\n\u001B[0;32m      2\u001B[0m fig, ax \u001B[38;5;241m=\u001B[39m plt\u001B[38;5;241m.\u001B[39msubplots(\u001B[38;5;241m1\u001B[39m, \u001B[38;5;241m2\u001B[39m, figsize\u001B[38;5;241m=\u001B[39m(\u001B[38;5;241m10\u001B[39m, \u001B[38;5;241m10\u001B[39m))\n\u001B[1;32m----> 3\u001B[0m topic_names \u001B[38;5;241m=\u001B[39m [\u001B[38;5;124m\"\u001B[39m\u001B[38;5;132;01m{:>2}\u001B[39;00m\u001B[38;5;124m \u001B[39m\u001B[38;5;124m\"\u001B[39m\u001B[38;5;241m.\u001B[39mformat(i) \u001B[38;5;241m+\u001B[39m \u001B[38;5;124m\"\u001B[39m\u001B[38;5;124m \u001B[39m\u001B[38;5;124m\"\u001B[39m\u001B[38;5;241m.\u001B[39mjoin(\u001B[43mwords\u001B[49m)\n\u001B[0;32m      4\u001B[0m                \u001B[38;5;28;01mfor\u001B[39;00m i, word \u001B[38;5;129;01min\u001B[39;00m \u001B[38;5;28menumerate\u001B[39m(feature_names[sorting[:, :\u001B[38;5;241m2\u001B[39m]])]\n\u001B[0;32m      5\u001B[0m \u001B[38;5;28;01mfor\u001B[39;00m col \u001B[38;5;129;01min\u001B[39;00m [\u001B[38;5;241m0\u001B[39m, \u001B[38;5;241m1\u001B[39m]:\n\u001B[0;32m      6\u001B[0m     start \u001B[38;5;241m=\u001B[39m col \u001B[38;5;241m*\u001B[39m \u001B[38;5;241m50\u001B[39m\n",
      "\u001B[1;31mNameError\u001B[0m: name 'words' is not defined"
     ]
    },
    {
     "data": {
      "text/plain": [
       "<Figure size 1000x1000 with 2 Axes>"
      ],
      "image/png": "[encoded data removed]"
     },
     "metadata": {},
     "output_type": "display_data"
    }
   ],
   "execution_count": 21
  },
  {
   "metadata": {},
   "cell_type": "code",
   "outputs": [],
   "execution_count": null,
   "source": "",
   "id": "2ef705cc529ce40f"
  }
 ],
 "metadata": {
  "kernelspec": {
   "display_name": "Python 3",
   "language": "python",
   "name": "python3"
  },
  "language_info": {
   "codemirror_mode": {
    "name": "ipython",
    "version": 2
   },
   "file_extension": ".py",
   "mimetype": "text/x-python",
   "name": "python",
   "nbconvert_exporter": "python",
   "pygments_lexer": "ipython2",
   "version": "2.7.6"
  }
 },
 "nbformat": 4,
 "nbformat_minor": 5
}
